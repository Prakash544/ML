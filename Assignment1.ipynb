{
  "nbformat": 4,
  "nbformat_minor": 0,
  "metadata": {
    "colab": {
      "name": "Assignment1.ipynb",
      "provenance": [],
      "collapsed_sections": [],
      "authorship_tag": "ABX9TyP8oEsifcfFiXbWAC3k1xlL",
      "include_colab_link": true
    },
    "kernelspec": {
      "name": "python3",
      "display_name": "Python 3"
    }
  },
  "cells": [
    {
      "cell_type": "markdown",
      "metadata": {
        "id": "view-in-github",
        "colab_type": "text"
      },
      "source": [
        "<a href=\"https://colab.research.google.com/github/Prakash544/ML/blob/master/Assignment1.ipynb\" target=\"_parent\"><img src=\"https://colab.research.google.com/assets/colab-badge.svg\" alt=\"Open In Colab\"/></a>"
      ]
    },
    {
      "cell_type": "markdown",
      "metadata": {
        "id": "vUA_xdsAYH0A",
        "colab_type": "text"
      },
      "source": [
        "Task 1:"
      ]
    },
    {
      "cell_type": "markdown",
      "metadata": {
        "id": "WY_QOmgctvvJ",
        "colab_type": "text"
      },
      "source": [
        "1. Install Jupyter notebook and run the first program and share the screenshot of the output."
      ]
    },
    {
      "cell_type": "code",
      "metadata": {
        "id": "uighc7bntye4",
        "colab_type": "code",
        "colab": {
          "base_uri": "https://localhost:8080/",
          "height": 34
        },
        "outputId": "922922d2-af54-4865-a1e8-b8308fd321d8"
      },
      "source": [
        "print(\"Hello Prakash\")"
      ],
      "execution_count": 11,
      "outputs": [
        {
          "output_type": "stream",
          "text": [
            "Hello Prakash\n"
          ],
          "name": "stdout"
        }
      ]
    },
    {
      "cell_type": "markdown",
      "metadata": {
        "id": "0oQ5_c2fYk6Z",
        "colab_type": "text"
      },
      "source": [
        "2. Write a program which will find all such numbers which are divisible by 7 but are not a multiple\n",
        "of 5, between 2000 and 3200 (both included). The numbers obtained should be printed in a\n",
        "comma-separated sequence on a single line."
      ]
    },
    {
      "cell_type": "code",
      "metadata": {
        "id": "8Tkj48irZLBl",
        "colab_type": "code",
        "colab": {
          "base_uri": "https://localhost:8080/",
          "height": 54
        },
        "outputId": "73f6bebd-ec4c-42a7-930c-ceb08d58e532"
      },
      "source": [
        "list = [ x for x in range(2000, 3200) if x % 7 == 0 and x * 5 != 0 ]\n",
        "\n",
        "print(list)"
      ],
      "execution_count": 2,
      "outputs": [
        {
          "output_type": "stream",
          "text": [
            "[2002, 2009, 2016, 2023, 2030, 2037, 2044, 2051, 2058, 2065, 2072, 2079, 2086, 2093, 2100, 2107, 2114, 2121, 2128, 2135, 2142, 2149, 2156, 2163, 2170, 2177, 2184, 2191, 2198, 2205, 2212, 2219, 2226, 2233, 2240, 2247, 2254, 2261, 2268, 2275, 2282, 2289, 2296, 2303, 2310, 2317, 2324, 2331, 2338, 2345, 2352, 2359, 2366, 2373, 2380, 2387, 2394, 2401, 2408, 2415, 2422, 2429, 2436, 2443, 2450, 2457, 2464, 2471, 2478, 2485, 2492, 2499, 2506, 2513, 2520, 2527, 2534, 2541, 2548, 2555, 2562, 2569, 2576, 2583, 2590, 2597, 2604, 2611, 2618, 2625, 2632, 2639, 2646, 2653, 2660, 2667, 2674, 2681, 2688, 2695, 2702, 2709, 2716, 2723, 2730, 2737, 2744, 2751, 2758, 2765, 2772, 2779, 2786, 2793, 2800, 2807, 2814, 2821, 2828, 2835, 2842, 2849, 2856, 2863, 2870, 2877, 2884, 2891, 2898, 2905, 2912, 2919, 2926, 2933, 2940, 2947, 2954, 2961, 2968, 2975, 2982, 2989, 2996, 3003, 3010, 3017, 3024, 3031, 3038, 3045, 3052, 3059, 3066, 3073, 3080, 3087, 3094, 3101, 3108, 3115, 3122, 3129, 3136, 3143, 3150, 3157, 3164, 3171, 3178, 3185, 3192, 3199]\n"
          ],
          "name": "stdout"
        }
      ]
    },
    {
      "cell_type": "markdown",
      "metadata": {
        "id": "tw7UIBm8amIP",
        "colab_type": "text"
      },
      "source": [
        "3. Write a Python program to accept the user's first and last name and then getting them printed in\n",
        "the the reverse order with a space between first name and last name."
      ]
    },
    {
      "cell_type": "code",
      "metadata": {
        "id": "MBmSGnHmrMM4",
        "colab_type": "code",
        "colab": {
          "base_uri": "https://localhost:8080/",
          "height": 51
        },
        "outputId": "17ca8f2f-3233-48d2-ed6b-a830b7825b0a"
      },
      "source": [
        "firstName = input('Write your FirstName -')\n",
        "lastName = input('Write your LastName-')"
      ],
      "execution_count": 5,
      "outputs": [
        {
          "output_type": "stream",
          "text": [
            "Write your FirstName -Prakash\n",
            "Write your LastName-Sankepalli\n"
          ],
          "name": "stdout"
        }
      ]
    },
    {
      "cell_type": "code",
      "metadata": {
        "id": "urvlOHxkrVKi",
        "colab_type": "code",
        "colab": {
          "base_uri": "https://localhost:8080/",
          "height": 34
        },
        "outputId": "403f80a6-91c4-48d9-adb1-f3827aa76132"
      },
      "source": [
        "fullName = lastName+ ' ' + firstName\n",
        "fullName"
      ],
      "execution_count": 7,
      "outputs": [
        {
          "output_type": "execute_result",
          "data": {
            "text/plain": [
              "'Sankepalli Prakash'"
            ]
          },
          "metadata": {
            "tags": []
          },
          "execution_count": 7
        }
      ]
    },
    {
      "cell_type": "code",
      "metadata": {
        "id": "4TLiHKstrebd",
        "colab_type": "code",
        "colab": {
          "base_uri": "https://localhost:8080/",
          "height": 34
        },
        "outputId": "c027c616-2f38-4b6f-c17c-806b5200cf03"
      },
      "source": [
        "reverse_fullName = fullName[::-1]\n",
        "print(reverse_fullName)"
      ],
      "execution_count": 8,
      "outputs": [
        {
          "output_type": "stream",
          "text": [
            "hsakarP illapeknaS\n"
          ],
          "name": "stdout"
        }
      ]
    },
    {
      "cell_type": "markdown",
      "metadata": {
        "id": "i91ZSGD6ro7I",
        "colab_type": "text"
      },
      "source": [
        "4. Write a Python program to find the volume of a sphere with diameter 12 cm. Formula: V=4/3 * π * r 3"
      ]
    },
    {
      "cell_type": "code",
      "metadata": {
        "id": "HD_35wttrqx8",
        "colab_type": "code",
        "colab": {
          "base_uri": "https://localhost:8080/",
          "height": 34
        },
        "outputId": "6f8fe72d-85d2-4268-f2b3-50246e50b784"
      },
      "source": [
        "import math\n",
        "pi = math.pi\n",
        "r = float(12/2)\n",
        "v = (float(4/3)*(pi)*(r)**3)\n",
        "print(v)"
      ],
      "execution_count": 9,
      "outputs": [
        {
          "output_type": "stream",
          "text": [
            "904.7786842338603\n"
          ],
          "name": "stdout"
        }
      ]
    },
    {
      "cell_type": "markdown",
      "metadata": {
        "id": "BS2gjhl8w0ud",
        "colab_type": "text"
      },
      "source": [
        "Task 2:"
      ]
    },
    {
      "cell_type": "markdown",
      "metadata": {
        "id": "NB3y-YaWXjA-",
        "colab_type": "text"
      },
      "source": [
        "1. Write a program which accepts a sequence of comma-separated numbers from console and\n",
        "generate a list."
      ]
    },
    {
      "cell_type": "code",
      "metadata": {
        "id": "YT9iZ5PyX5Dt",
        "colab_type": "code",
        "colab": {
          "base_uri": "https://localhost:8080/",
          "height": 51
        },
        "outputId": "cc9bfd2d-9105-4e0b-af61-2ed8d8d19a1e"
      },
      "source": [
        "values = input(\"Input some comma seprated numbers: \")\n",
        "list = values.split(\",\")\n",
        "print('List : ',list)"
      ],
      "execution_count": 1,
      "outputs": [
        {
          "output_type": "stream",
          "text": [
            "Input some comma seprated numbers: 3,5,6,89,76\n",
            "List :  ['3', '5', '6', '89', '76']\n"
          ],
          "name": "stdout"
        }
      ]
    },
    {
      "cell_type": "markdown",
      "metadata": {
        "id": "T7L0Jgycs9Qu",
        "colab_type": "text"
      },
      "source": [
        "2. Create the pattern using nested for loop in Python."
      ]
    },
    {
      "cell_type": "code",
      "metadata": {
        "id": "7TcUlgjysymS",
        "colab_type": "code",
        "colab": {
          "base_uri": "https://localhost:8080/",
          "height": 187
        },
        "outputId": "b3a53270-f221-4782-ff3b-613188d5bffa"
      },
      "source": [
        "n=5;\n",
        "# TOP Pattern\n",
        "for i in range(0,n):\n",
        "    for j in range(0,i):\n",
        "        print ('* ', end=\"\")\n",
        "    print('')\n",
        "    \n",
        "# Bottom pattern\n",
        "for i in range(n,0,-1):\n",
        "    for j in range(0,i):\n",
        "        print('* ', end=\"\")\n",
        "    print('')"
      ],
      "execution_count": 10,
      "outputs": [
        {
          "output_type": "stream",
          "text": [
            "\n",
            "* \n",
            "* * \n",
            "* * * \n",
            "* * * * \n",
            "* * * * * \n",
            "* * * * \n",
            "* * * \n",
            "* * \n",
            "* \n"
          ],
          "name": "stdout"
        }
      ]
    },
    {
      "cell_type": "markdown",
      "metadata": {
        "id": "UK7MgG1AuLdL",
        "colab_type": "text"
      },
      "source": [
        "3.Write a Python program to reverse a word after accepting the input from the user."
      ]
    },
    {
      "cell_type": "code",
      "metadata": {
        "id": "7ZiM03WGuODc",
        "colab_type": "code",
        "colab": {
          "base_uri": "https://localhost:8080/",
          "height": 68
        },
        "outputId": "7b2c6ff5-342d-465a-dd88-c1f1805788f5"
      },
      "source": [
        "name = input(\"Enter Your Name-\")\n",
        "print(name[::-1])"
      ],
      "execution_count": 15,
      "outputs": [
        {
          "output_type": "stream",
          "text": [
            "ERROR! Session/line number was not unique in database. History logging moved to new session 61\n",
            "Enter Your Name-Prakash Reddy\n",
            "yddeR hsakarP\n"
          ],
          "name": "stdout"
        }
      ]
    }
  ]
}