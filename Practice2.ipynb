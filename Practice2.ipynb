{
  "nbformat": 4,
  "nbformat_minor": 0,
  "metadata": {
    "colab": {
      "name": "Practice2.ipynb",
      "provenance": [],
      "authorship_tag": "ABX9TyNMdLcgtadHkafqACbq6JRu",
      "include_colab_link": true
    },
    "kernelspec": {
      "name": "python3",
      "display_name": "Python 3"
    }
  },
  "cells": [
    {
      "cell_type": "markdown",
      "metadata": {
        "id": "view-in-github",
        "colab_type": "text"
      },
      "source": [
        "<a href=\"https://colab.research.google.com/github/Prakash544/ML/blob/master/Practice2.ipynb\" target=\"_parent\"><img src=\"https://colab.research.google.com/assets/colab-badge.svg\" alt=\"Open In Colab\"/></a>"
      ]
    },
    {
      "cell_type": "markdown",
      "metadata": {
        "id": "84qaFmGv4OZ9",
        "colab_type": "text"
      },
      "source": [
        "1.Write a python program to check if all dictionaries in a list are empty or not"
      ]
    },
    {
      "cell_type": "code",
      "metadata": {
        "id": "mBJQVJwl4HE3",
        "colab_type": "code",
        "colab": {
          "base_uri": "https://localhost:8080/",
          "height": 51
        },
        "outputId": "8388a1cd-d395-44c0-c621-94b99a33d1b4"
      },
      "source": [
        "my_list1 = [{},{},{}]\n",
        "my_list2 = [{123,23423},{},{}]\n",
        "print(all(not d for d in my_list1))\n",
        "print(all(not d for d in my_list2))"
      ],
      "execution_count": 1,
      "outputs": [
        {
          "output_type": "stream",
          "text": [
            "True\n",
            "False\n"
          ],
          "name": "stdout"
        }
      ]
    },
    {
      "cell_type": "markdown",
      "metadata": {
        "id": "MM8udVEN40Fs",
        "colab_type": "text"
      },
      "source": [
        "2.Write a python program to remove duplicates from a list of lists."
      ]
    },
    {
      "cell_type": "code",
      "metadata": {
        "id": "Et7XZ__D4_wh",
        "colab_type": "code",
        "colab": {
          "base_uri": "https://localhost:8080/",
          "height": 51
        },
        "outputId": "78f60989-1c2d-45fd-b396-5291d27bfac8"
      },
      "source": [
        "import itertools\n",
        "\n",
        "num = [[110,120],[240],[330,456,425],[310,220],[133],[240],[330]]\n",
        "print(\"Original List\", num)\n",
        "num.sort()\n",
        "new_num = list(num for num,_ in itertools.groupby(num))\n",
        "print(\"New List\", new_num)"
      ],
      "execution_count": 3,
      "outputs": [
        {
          "output_type": "stream",
          "text": [
            "Original List [[110, 120], [240], [330, 456, 425], [310, 220], [133], [240], [330]]\n",
            "New List [[110, 120], [133], [240], [310, 220], [330], [330, 456, 425]]\n"
          ],
          "name": "stdout"
        }
      ]
    },
    {
      "cell_type": "markdown",
      "metadata": {
        "id": "leqDJfA76sbh",
        "colab_type": "text"
      },
      "source": [
        "3.Write a python program to extend a list without append."
      ]
    },
    {
      "cell_type": "code",
      "metadata": {
        "id": "9v4i43gr60-N",
        "colab_type": "code",
        "colab": {
          "base_uri": "https://localhost:8080/",
          "height": 34
        },
        "outputId": "eaf5335c-2852-475e-d4fb-e4a9dbede7b2"
      },
      "source": [
        "x = [103,321,430]\n",
        "y = [110,503,203,101]\n",
        "x[:0] = y\n",
        "print(sorted(x))"
      ],
      "execution_count": 5,
      "outputs": [
        {
          "output_type": "stream",
          "text": [
            "[101, 103, 110, 203, 321, 430, 503]\n"
          ],
          "name": "stdout"
        }
      ]
    },
    {
      "cell_type": "markdown",
      "metadata": {
        "id": "PNjKIcd97URL",
        "colab_type": "text"
      },
      "source": [
        "4.Write a python program to find the list in a list of lists whose sum of elements is the highest."
      ]
    },
    {
      "cell_type": "code",
      "metadata": {
        "id": "xqioFWzA7r8B",
        "colab_type": "code",
        "colab": {
          "base_uri": "https://localhost:8080/",
          "height": 34
        },
        "outputId": "9f5aa37e-2324-4158-e5a7-d24d1a84856f"
      },
      "source": [
        "num = [[1,2,3],[4,5,6],[13,2,4],[7,8,9]]\n",
        "print(max(num, key=sum))"
      ],
      "execution_count": 7,
      "outputs": [
        {
          "output_type": "stream",
          "text": [
            "[7, 8, 9]\n"
          ],
          "name": "stdout"
        }
      ]
    },
    {
      "cell_type": "markdown",
      "metadata": {
        "id": "yi5fAEno8Eu8",
        "colab_type": "text"
      },
      "source": [
        "5.Write a python program to access dictionary key's element by index."
      ]
    },
    {
      "cell_type": "code",
      "metadata": {
        "id": "R7fFEOmW8M4s",
        "colab_type": "code",
        "colab": {
          "base_uri": "https://localhost:8080/",
          "height": 34
        },
        "outputId": "3a6b03d0-1fc8-4c50-85f9-e5069a6768b2"
      },
      "source": [
        "num = {'stats': 80, 'math':90, 'algorithm': 87}\n",
        "print(list(num)[1])"
      ],
      "execution_count": 9,
      "outputs": [
        {
          "output_type": "stream",
          "text": [
            "math\n"
          ],
          "name": "stdout"
        }
      ]
    },
    {
      "cell_type": "markdown",
      "metadata": {
        "id": "7ZOWlt878k2O",
        "colab_type": "text"
      },
      "source": [
        "6.Write a python program to iterate over two lists simultaneously."
      ]
    },
    {
      "cell_type": "code",
      "metadata": {
        "id": "tQOGRdcx833O",
        "colab_type": "code",
        "colab": {
          "base_uri": "https://localhost:8080/",
          "height": 68
        },
        "outputId": "cf509468-93e4-483a-f0c8-3c4771308a11"
      },
      "source": [
        "num = [1,2,3]\n",
        "color = ['red','while','black']\n",
        "for (a,b) in zip(num, color):\n",
        "  print(a,b)"
      ],
      "execution_count": 10,
      "outputs": [
        {
          "output_type": "stream",
          "text": [
            "1 red\n",
            "2 while\n",
            "3 black\n"
          ],
          "name": "stdout"
        }
      ]
    },
    {
      "cell_type": "markdown",
      "metadata": {
        "id": "RXVtZyWg9T5u",
        "colab_type": "text"
      },
      "source": [
        "7.Write a program to insert a string at begining of every elements in a list."
      ]
    },
    {
      "cell_type": "code",
      "metadata": {
        "id": "6edxo0k_9edK",
        "colab_type": "code",
        "colab": {
          "base_uri": "https://localhost:8080/",
          "height": 34
        },
        "outputId": "fff84d5f-7f56-4e9e-a285-0faff7c37107"
      },
      "source": [
        "a = [100,123,343,545,456,786]\n",
        "\n",
        "print(['customer{0}'.format(i) for i in a])"
      ],
      "execution_count": 11,
      "outputs": [
        {
          "output_type": "stream",
          "text": [
            "['customer100', 'customer123', 'customer343', 'customer545', 'customer456', 'customer786']\n"
          ],
          "name": "stdout"
        }
      ]
    },
    {
      "cell_type": "markdown",
      "metadata": {
        "id": "z8g_ZT22-FlB",
        "colab_type": "text"
      },
      "source": [
        "8.Write a program to take two lists and print if they have at least one common member."
      ]
    },
    {
      "cell_type": "code",
      "metadata": {
        "id": "8kY4m4Tc-p4o",
        "colab_type": "code",
        "colab": {
          "base_uri": "https://localhost:8080/",
          "height": 51
        },
        "outputId": "c214db67-8781-46ce-ccb1-ae2a799b85b6"
      },
      "source": [
        "def common_data(list1, list2):\n",
        "  result = False\n",
        "  for x in list1:\n",
        "    for y in list2:\n",
        "      if x == y:\n",
        "        result = True\n",
        "        return result\n",
        "\n",
        "print(common_data([121,234,435,454],[342,445,654,231]))\n",
        "print(common_data([1,3,4,3],[3,4,2]))"
      ],
      "execution_count": 14,
      "outputs": [
        {
          "output_type": "stream",
          "text": [
            "None\n",
            "True\n"
          ],
          "name": "stdout"
        }
      ]
    },
    {
      "cell_type": "markdown",
      "metadata": {
        "id": "0CylYjnpAPfE",
        "colab_type": "text"
      },
      "source": [
        "9.Wrie compute all permutations in a list."
      ]
    },
    {
      "cell_type": "code",
      "metadata": {
        "id": "PtsA1BKiAt94",
        "colab_type": "code",
        "colab": {
          "base_uri": "https://localhost:8080/",
          "height": 34
        },
        "outputId": "395a1c28-6956-4c46-9ed1-98bb465abdbb"
      },
      "source": [
        "import itertools\n",
        "print(list(itertools.permutations([12,22,24])))"
      ],
      "execution_count": 15,
      "outputs": [
        {
          "output_type": "stream",
          "text": [
            "[(12, 22, 24), (12, 24, 22), (22, 12, 24), (22, 24, 12), (24, 12, 22), (24, 22, 12)]\n"
          ],
          "name": "stdout"
        }
      ]
    }
  ]
}