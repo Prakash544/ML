{
  "nbformat": 4,
  "nbformat_minor": 0,
  "metadata": {
    "colab": {
      "name": "Practice1.ipynb",
      "provenance": [],
      "collapsed_sections": [],
      "authorship_tag": "ABX9TyPebz+vBCqS+x3QinwSzLXR",
      "include_colab_link": true
    },
    "kernelspec": {
      "name": "python3",
      "display_name": "Python 3"
    }
  },
  "cells": [
    {
      "cell_type": "markdown",
      "metadata": {
        "id": "view-in-github",
        "colab_type": "text"
      },
      "source": [
        "<a href=\"https://colab.research.google.com/github/Prakash544/ML/blob/master/Practice1.ipynb\" target=\"_parent\"><img src=\"https://colab.research.google.com/assets/colab-badge.svg\" alt=\"Open In Colab\"/></a>"
      ]
    },
    {
      "cell_type": "markdown",
      "metadata": {
        "id": "2fjmYUrvyo7W",
        "colab_type": "text"
      },
      "source": [
        "1.Write a python program to sum all the item in a list"
      ]
    },
    {
      "cell_type": "code",
      "metadata": {
        "id": "SUodlz9yybAt",
        "colab_type": "code",
        "colab": {
          "base_uri": "https://localhost:8080/",
          "height": 34
        },
        "outputId": "cd6d2bc2-613f-4920-c0f2-b11677637816"
      },
      "source": [
        "def sum_list(items):\n",
        "  sum_numbers = 0\n",
        "  for x in items:\n",
        "    sum_numbers +=x\n",
        "  return sum_numbers\n",
        "print(sum_list([1,2,4,-8]))"
      ],
      "execution_count": 1,
      "outputs": [
        {
          "output_type": "stream",
          "text": [
            "-1\n"
          ],
          "name": "stdout"
        }
      ]
    },
    {
      "cell_type": "markdown",
      "metadata": {
        "id": "eXbAa2vczI76",
        "colab_type": "text"
      },
      "source": [
        "2.Write a python program to count the number of strings where the string length is 2 or more and the first and last character are same from a given list of strings."
      ]
    },
    {
      "cell_type": "code",
      "metadata": {
        "id": "3EI1Q7bGzmYo",
        "colab_type": "code",
        "colab": {}
      },
      "source": [
        "def match_words(words):\n",
        "  ctr = 0\n",
        "\n",
        "  for word in words:\n",
        "    if len(word) > 1 and word[0] == word[-1]:\n",
        "      ctr +=1\n",
        "  return ctr"
      ],
      "execution_count": 0,
      "outputs": []
    },
    {
      "cell_type": "code",
      "metadata": {
        "id": "38osr1b4z-cX",
        "colab_type": "code",
        "colab": {}
      },
      "source": [
        "a = ['abc','xyz','aba','1232','asdfsddgh','aa','d']"
      ],
      "execution_count": 0,
      "outputs": []
    },
    {
      "cell_type": "code",
      "metadata": {
        "id": "uWOPFOxG0P9p",
        "colab_type": "code",
        "colab": {
          "base_uri": "https://localhost:8080/",
          "height": 34
        },
        "outputId": "83892b34-3731-432d-b61a-788422968593"
      },
      "source": [
        "match_words(a)"
      ],
      "execution_count": 8,
      "outputs": [
        {
          "output_type": "execute_result",
          "data": {
            "text/plain": [
              "2"
            ]
          },
          "metadata": {
            "tags": []
          },
          "execution_count": 8
        }
      ]
    },
    {
      "cell_type": "markdown",
      "metadata": {
        "id": "pcHSGthf1q5L",
        "colab_type": "text"
      },
      "source": [
        "3.write a python program to remove duplicates from a list."
      ]
    },
    {
      "cell_type": "code",
      "metadata": {
        "id": "zpOpvdrF1wTc",
        "colab_type": "code",
        "colab": {
          "base_uri": "https://localhost:8080/",
          "height": 34
        },
        "outputId": "9bb13b12-0917-44ae-f5fc-982e51c79227"
      },
      "source": [
        "sample_list = [10,20,22,32,43,56,76,22,43,79,32]\n",
        "dup_items = set()\n",
        "uniq_items = []\n",
        "for x in sample_list:\n",
        "  if x not in dup_items:\n",
        "    uniq_items.append(x)\n",
        "    dup_items.add(x)\n",
        "\n",
        "print(sorted(dup_items))"
      ],
      "execution_count": 11,
      "outputs": [
        {
          "output_type": "stream",
          "text": [
            "[10, 20, 22, 32, 43, 56, 76, 79]\n"
          ],
          "name": "stdout"
        }
      ]
    }
  ]
}