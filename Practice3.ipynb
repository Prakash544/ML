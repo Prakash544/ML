{
  "nbformat": 4,
  "nbformat_minor": 0,
  "metadata": {
    "colab": {
      "name": "Practice3.ipynb",
      "provenance": [],
      "collapsed_sections": [],
      "authorship_tag": "ABX9TyOUiWWZdZqVQBp2JwVErXci",
      "include_colab_link": true
    },
    "kernelspec": {
      "name": "python3",
      "display_name": "Python 3"
    }
  },
  "cells": [
    {
      "cell_type": "markdown",
      "metadata": {
        "id": "view-in-github",
        "colab_type": "text"
      },
      "source": [
        "<a href=\"https://colab.research.google.com/github/Prakash544/ML/blob/master/Practice3.ipynb\" target=\"_parent\"><img src=\"https://colab.research.google.com/assets/colab-badge.svg\" alt=\"Open In Colab\"/></a>"
      ]
    },
    {
      "cell_type": "markdown",
      "metadata": {
        "id": "1ojeNLf4Hug_",
        "colab_type": "text"
      },
      "source": [
        "1.Create a dictionary \n",
        "  dict = {'data': '123','science':'234','AI':'235'}\n",
        "  Write a program to sort a dictionary by key."
      ]
    },
    {
      "cell_type": "code",
      "metadata": {
        "id": "myKgsS86HtkV",
        "colab_type": "code",
        "colab": {
          "base_uri": "https://localhost:8080/",
          "height": 68
        },
        "outputId": "1d0486f8-5738-4a82-e121-7a2952382c42"
      },
      "source": [
        "dict = {'data': '123','science':'234','AI':'235'} \n",
        "for key in sorted(dict):\n",
        "  print(\"%s: %s\" % (key, dict[key]))"
      ],
      "execution_count": 7,
      "outputs": [
        {
          "output_type": "stream",
          "text": [
            "AI: 235\n",
            "data: 123\n",
            "science: 234\n"
          ],
          "name": "stdout"
        }
      ]
    },
    {
      "cell_type": "markdown",
      "metadata": {
        "id": "JCNCtvLSJeLb",
        "colab_type": "text"
      },
      "source": [
        "2.Write a python program to get a dictionay from an object's fields."
      ]
    },
    {
      "cell_type": "code",
      "metadata": {
        "id": "jwghhKEoJxcO",
        "colab_type": "code",
        "colab": {
          "base_uri": "https://localhost:8080/",
          "height": 34
        },
        "outputId": "c54fe00f-c2f7-4354-e03a-a6139e4136b1"
      },
      "source": [
        "class dictobj(object):\n",
        "  def __init__(self):\n",
        "    self.x = 'algorithm'\n",
        "    self.y = 'statistics'\n",
        "    self.z = 'programming'\n",
        "  def do_nothing(self):\n",
        "    pass\n",
        "test = dictobj()\n",
        "print(test.__dict__)"
      ],
      "execution_count": 10,
      "outputs": [
        {
          "output_type": "stream",
          "text": [
            "{'x': 'algorithm', 'y': 'statistics', 'z': 'programming'}\n"
          ],
          "name": "stdout"
        }
      ]
    },
    {
      "cell_type": "markdown",
      "metadata": {
        "id": "huCYOx1PKm-C",
        "colab_type": "text"
      },
      "source": [
        "3.Write a program to remove duplicates from dictionary."
      ]
    },
    {
      "cell_type": "code",
      "metadata": {
        "id": "5mqTRERgLSn-",
        "colab_type": "code",
        "colab": {
          "base_uri": "https://localhost:8080/",
          "height": 54
        },
        "outputId": "30863833-c36f-4c6e-e8d7-2ea674ff2eac"
      },
      "source": [
        "student_data = {'id1':\n",
        "                {\n",
        "                    'name': ['Sara'],\n",
        "                    'class': ['V'],\n",
        "                    'subject_integration': ['english, math, science']\n",
        "                },\n",
        "                'id2':\n",
        "                {\n",
        "                    'name': ['David'],\n",
        "                    'class': ['V'],\n",
        "                    'subject_integration': ['english, math, science']\n",
        "                },\n",
        "                'id3':\n",
        "                {\n",
        "                    'name': ['Sara'],\n",
        "                    'class': ['V'],\n",
        "                    'subject_integration': ['english, math, science']\n",
        "                 },\n",
        "                'id4':\n",
        "                {\n",
        "                    'name': ['Surya'],\n",
        "                    'class': ['V'],\n",
        "                    'subject_integration': ['english, math, science']\n",
        "                 }\n",
        "}\n",
        "\n",
        "result = {}\n",
        "\n",
        "for key,value in student_data.items():\n",
        "  if value not in result.values():\n",
        "    result[key] = value\n",
        "\n",
        "print(result)\n"
      ],
      "execution_count": 12,
      "outputs": [
        {
          "output_type": "stream",
          "text": [
            "{'id1': {'name': ['Sara'], 'class': ['V'], 'subject_integration': ['english, math, science']}, 'id2': {'name': ['David'], 'class': ['V'], 'subject_integration': ['english, math, science']}, 'id4': {'name': ['Surya'], 'class': ['V'], 'subject_integration': ['english, math, science']}}\n"
          ],
          "name": "stdout"
        }
      ]
    },
    {
      "cell_type": "markdown",
      "metadata": {
        "id": "18JvHKtNP-M2",
        "colab_type": "text"
      },
      "source": [
        "4.Write a program to combine two dictionary adding values for common keys"
      ]
    },
    {
      "cell_type": "code",
      "metadata": {
        "id": "27xRn9UqQHfQ",
        "colab_type": "code",
        "colab": {
          "base_uri": "https://localhost:8080/",
          "height": 34
        },
        "outputId": "11e77955-faac-4f56-ee8d-37abb2cafaeb"
      },
      "source": [
        "from collections import Counter\n",
        "d1 = {'a':1000, 'b':3200, 'c':1300}\n",
        "d2 = {'a':300, 'b':200, 'd':400}\n",
        "d = Counter(d1) + Counter(d2)\n",
        "print(d)"
      ],
      "execution_count": 15,
      "outputs": [
        {
          "output_type": "stream",
          "text": [
            "Counter({'b': 3400, 'a': 1300, 'c': 1300, 'd': 400})\n"
          ],
          "name": "stdout"
        }
      ]
    },
    {
      "cell_type": "markdown",
      "metadata": {
        "id": "6ulIRmShSzw5",
        "colab_type": "text"
      },
      "source": [
        "5.Write a program to print all unique values from a dictionary in a list."
      ]
    },
    {
      "cell_type": "code",
      "metadata": {
        "id": "ByxDkkZES7Qv",
        "colab_type": "code",
        "colab": {
          "base_uri": "https://localhost:8080/",
          "height": 34
        },
        "outputId": "e79cb325-86c1-444a-904b-9fdc2eabcff9"
      },
      "source": [
        "data = [{'v':'S001'}, {'v':'S002'},{'VI':'S001'},{'VI':'S009'}]\n",
        "u_values = set(val for dic in data for val in dic.values())\n",
        "print(\"Unique Values:\", u_values)"
      ],
      "execution_count": 16,
      "outputs": [
        {
          "output_type": "stream",
          "text": [
            "Unique Values: {'S009', 'S002', 'S001'}\n"
          ],
          "name": "stdout"
        }
      ]
    },
    {
      "cell_type": "code",
      "metadata": {
        "id": "9y7s-JOtWAET",
        "colab_type": "code",
        "colab": {
          "base_uri": "https://localhost:8080/",
          "height": 34
        },
        "outputId": "b1256427-bd44-4ecb-9a12-85f9c42faec3"
      },
      "source": [
        "type(data)"
      ],
      "execution_count": 17,
      "outputs": [
        {
          "output_type": "execute_result",
          "data": {
            "text/plain": [
              "list"
            ]
          },
          "metadata": {
            "tags": []
          },
          "execution_count": 17
        }
      ]
    }
  ]
}