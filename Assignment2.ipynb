{
  "nbformat": 4,
  "nbformat_minor": 0,
  "metadata": {
    "colab": {
      "name": "Assignment2.ipynb",
      "provenance": [],
      "authorship_tag": "ABX9TyM+gk0ORMG26Ju9tA454c6R",
      "include_colab_link": true
    },
    "kernelspec": {
      "name": "python3",
      "display_name": "Python 3"
    }
  },
  "cells": [
    {
      "cell_type": "markdown",
      "metadata": {
        "id": "view-in-github",
        "colab_type": "text"
      },
      "source": [
        "<a href=\"https://colab.research.google.com/github/Prakash544/ML/blob/master/Assignment2.ipynb\" target=\"_parent\"><img src=\"https://colab.research.google.com/assets/colab-badge.svg\" alt=\"Open In Colab\"/></a>"
      ]
    },
    {
      "cell_type": "markdown",
      "metadata": {
        "id": "-c07nBNAfslg",
        "colab_type": "text"
      },
      "source": [
        "Task 1:"
      ]
    },
    {
      "cell_type": "markdown",
      "metadata": {
        "id": "TzokFjrKgFId",
        "colab_type": "text"
      },
      "source": [
        "1.Write a Python Program to implement your own myreduce() function which works exactly\n",
        "like Python's built-in function reduce()"
      ]
    },
    {
      "cell_type": "code",
      "metadata": {
        "id": "1IWSLR-cgKpC",
        "colab_type": "code",
        "colab": {}
      },
      "source": [
        "#Create myreduce function its two parametes fun & seq\n",
        "def myreduce (fun , seq): \n",
        "  #Get first item in seq and assign to res.\n",
        " res = seq[0]\n",
        " #iterate item in seq remaining to res\n",
        " for item in seq[1:]:\n",
        "   res = fun(res,item)\n",
        " return res"
      ],
      "execution_count": 0,
      "outputs": []
    },
    {
      "cell_type": "code",
      "metadata": {
        "id": "74qC8w1ljmoW",
        "colab_type": "code",
        "colab": {}
      },
      "source": [
        "#Operational Methos Adding numbers\n",
        "def sum(x,y): return x + y"
      ],
      "execution_count": 0,
      "outputs": []
    },
    {
      "cell_type": "code",
      "metadata": {
        "id": "GPqIO9i0h-rO",
        "colab_type": "code",
        "outputId": "cbbb81e0-b4e2-416d-e6af-67c1074f5bc0",
        "colab": {
          "base_uri": "https://localhost:8080/",
          "height": 34
        }
      },
      "source": [
        "print (\"Sum on list [6,8,36] using custom reduce function \"   + str(myreduce(sum, [6,8,36])) )"
      ],
      "execution_count": 0,
      "outputs": [
        {
          "output_type": "stream",
          "text": [
            "Sum on list [6,8,36] using custom reduce function 50\n"
          ],
          "name": "stdout"
        }
      ]
    },
    {
      "cell_type": "markdown",
      "metadata": {
        "id": "31NYuMOSlEvj",
        "colab_type": "text"
      },
      "source": [
        "2.Write a Python program to implement your own myfilter() function which works exactly like\n",
        "Python's built-in function filter()"
      ]
    },
    {
      "cell_type": "code",
      "metadata": {
        "id": "EWoWHXl8lWrS",
        "colab_type": "code",
        "colab": {}
      },
      "source": [
        "#Create filter function its two parametes fun & seq\n",
        "def myfilter(fun,seq):\n",
        "  #its empty list assign to res\n",
        "  res = []\n",
        "  #iterate item in seq\n",
        "  for item in seq:\n",
        "    if fun(item):\n",
        "      res.append(item);\n",
        "  return res;"
      ],
      "execution_count": 0,
      "outputs": []
    },
    {
      "cell_type": "code",
      "metadata": {
        "id": "pfDYcW3unTMo",
        "colab_type": "code",
        "colab": {}
      },
      "source": [
        "def ispositive(x):\n",
        "  if(x <= 0):\n",
        "    return False\n",
        "  else:\n",
        "    return True"
      ],
      "execution_count": 0,
      "outputs": []
    },
    {
      "cell_type": "code",
      "metadata": {
        "id": "moujoPC9p8XC",
        "colab_type": "code",
        "colab": {}
      },
      "source": [
        "def isevent(x):\n",
        "  if(x%2 == 0):\n",
        "    return True\n",
        "  else:\n",
        "    return False"
      ],
      "execution_count": 0,
      "outputs": []
    },
    {
      "cell_type": "code",
      "metadata": {
        "id": "uiqrFMQ4qOHo",
        "colab_type": "code",
        "outputId": "d073d125-3a5e-4a9d-a7ab-b63b7c98cba3",
        "colab": {
          "base_uri": "https://localhost:8080/",
          "height": 34
        }
      },
      "source": [
        "print (\"Filter only positive Integers on list [0,1,-2,3,4,5] using custom filter function\"  + str(myfilter(isevent, [0,1,-2,3,4,5])))"
      ],
      "execution_count": 0,
      "outputs": [
        {
          "output_type": "stream",
          "text": [
            "Filter only positive Integers on list [0,1,-2,3,4,5] using custom filter function[0, -2, 4]\n"
          ],
          "name": "stdout"
        }
      ]
    },
    {
      "cell_type": "code",
      "metadata": {
        "id": "hL_MW7uXn_wZ",
        "colab_type": "code",
        "outputId": "7f11a57a-4192-4448-95a6-148b128f8f39",
        "colab": {
          "base_uri": "https://localhost:8080/",
          "height": 34
        }
      },
      "source": [
        "print (\"Filter only positive Integers on list [0,1,-2,3,4,5] using custom filter function\"  + str(myfilter(ispositive, [0,1,-2,3,4,5])))"
      ],
      "execution_count": 0,
      "outputs": [
        {
          "output_type": "stream",
          "text": [
            "Filter only positive Integers on list [0,1,-2,3,4,5] using custom filter function[1, 3, 4, 5]\n"
          ],
          "name": "stdout"
        }
      ]
    },
    {
      "cell_type": "markdown",
      "metadata": {
        "id": "lgjZGMtrqx45",
        "colab_type": "text"
      },
      "source": [
        "3.Implement List comprehensions to produce the following lists.\n",
        "Write List comprehensions to produce the following Lists.\n",
        "\n",
        "['x', 'xx', 'xxx', 'xxxx', 'y', 'yy', 'yyy', 'yyyy', 'z', 'zz', 'zzz', 'zzzz']\n",
        "\n",
        "['x', 'y', 'z', 'xx', 'yy', 'zz', 'xx', 'yy', 'zz', 'xxxx', 'yyyy', 'zzzz']\n",
        "\n",
        "[[2], [3], [4], [3], [4], [5], [4], [5], [6]]\n",
        "\n",
        "[[2, 3, 4, 5], [3, 4, 5, 6], [4, 5, 6, 7], [5, 6, 7, 8]]\n",
        "\n",
        "[(1, 1), (2, 1), (3, 1), (1, 2), (2, 2), (3, 2), (1, 3), (2, 3), (3, 3)]\n"
      ]
    },
    {
      "cell_type": "code",
      "metadata": {
        "id": "QEXWLeL8q4mC",
        "colab_type": "code",
        "outputId": "e4dd0e81-f987-450b-96e5-f3264637074c",
        "colab": {
          "base_uri": "https://localhost:8080/",
          "height": 34
        }
      },
      "source": [
        "input_list = ['x','y','z']\n",
        "result = [ [item*num for item in input_list] for num in range(1,5)]\n",
        "print(result)\n"
      ],
      "execution_count": 0,
      "outputs": [
        {
          "output_type": "stream",
          "text": [
            "[['x', 'y', 'z'], ['xx', 'yy', 'zz'], ['xxx', 'yyy', 'zzz'], ['xxxx', 'yyyy', 'zzzz']]\n"
          ],
          "name": "stdout"
        }
      ]
    },
    {
      "cell_type": "code",
      "metadata": {
        "id": "xNiherNOu_R1",
        "colab_type": "code",
        "outputId": "642a0dbb-7814-4041-8684-4386948590b8",
        "colab": {
          "base_uri": "https://localhost:8080/",
          "height": 34
        }
      },
      "source": [
        "input_list1 = ['x','y','z']\n",
        "result1 = [ item*num for num in range(1,5)  for item in input_list1]\n",
        "print(str(result1))"
      ],
      "execution_count": 0,
      "outputs": [
        {
          "output_type": "stream",
          "text": [
            "['x', 'y', 'z', 'xx', 'yy', 'zz', 'xxx', 'yyy', 'zzz', 'xxxx', 'yyyy', 'zzzz']\n"
          ],
          "name": "stdout"
        }
      ]
    },
    {
      "cell_type": "code",
      "metadata": {
        "id": "3e-X4pzVyQuM",
        "colab_type": "code",
        "outputId": "69c57627-2104-487b-97f1-0fb2b33f9e91",
        "colab": {
          "base_uri": "https://localhost:8080/",
          "height": 34
        }
      },
      "source": [
        "input_list2 = [2,3,4]\n",
        "result2 = [[item+num for item in input_list2] for num in range(0,3)]\n",
        "print(result2)"
      ],
      "execution_count": 0,
      "outputs": [
        {
          "output_type": "stream",
          "text": [
            "[[2, 3, 4], [3, 4, 5], [4, 5, 6]]\n"
          ],
          "name": "stdout"
        }
      ]
    },
    {
      "cell_type": "code",
      "metadata": {
        "id": "_N39T_02zLZj",
        "colab_type": "code",
        "outputId": "2bba1b1a-94f6-4c5f-fac5-fd23b9798cea",
        "colab": {
          "base_uri": "https://localhost:8080/",
          "height": 34
        }
      },
      "source": [
        "input_list3 = [2,3,4,5]\n",
        "result3 = [[item+num for item in input_list3] for num in range(0,4)]\n",
        "print(result3)"
      ],
      "execution_count": 0,
      "outputs": [
        {
          "output_type": "stream",
          "text": [
            "[[2, 3, 4, 5], [3, 4, 5, 6], [4, 5, 6, 7], [5, 6, 7, 8]]\n"
          ],
          "name": "stdout"
        }
      ]
    },
    {
      "cell_type": "code",
      "metadata": {
        "id": "vhM5NcB6zpI1",
        "colab_type": "code",
        "outputId": "97160e1f-fb20-433d-e530-01de5552ed4f",
        "colab": {
          "base_uri": "https://localhost:8080/",
          "height": 34
        }
      },
      "source": [
        "input_list4 = [1,2,3]\n",
        "result4 = [(b,a) for a in input_list4 for b in input_list4]\n",
        "print(result4)"
      ],
      "execution_count": 0,
      "outputs": [
        {
          "output_type": "stream",
          "text": [
            "[(1, 1), (2, 1), (3, 1), (1, 2), (2, 2), (3, 2), (1, 3), (2, 3), (3, 3)]\n"
          ],
          "name": "stdout"
        }
      ]
    },
    {
      "cell_type": "markdown",
      "metadata": {
        "id": "JzP8hLsX0hQE",
        "colab_type": "text"
      },
      "source": [
        "4.Implement a function longestWord() that takes a list of words and returns the longest one"
      ]
    },
    {
      "cell_type": "code",
      "metadata": {
        "id": "AmVlUMxv0k2C",
        "colab_type": "code",
        "outputId": "b0e62d20-4303-4b9a-f088-91bd08436c39",
        "colab": {
          "base_uri": "https://localhost:8080/",
          "height": 51
        }
      },
      "source": [
        "list_words = [\"sudhanshu kumar\",\"krishna Naik\",\"Prakash Reddy\"]\n",
        "p = [(len(word),word) for word in list_words]\n",
        "p.sort()\n",
        "print(p)\n",
        "print('Longest word in list is ',p[-1][1])"
      ],
      "execution_count": 0,
      "outputs": [
        {
          "output_type": "stream",
          "text": [
            "[(12, 'krishna Naik'), (13, 'Prakash Reddy'), (15, 'sudhanshu kumar')]\n",
            "Longest word in list is  sudhanshu kumar\n"
          ],
          "name": "stdout"
        }
      ]
    },
    {
      "cell_type": "markdown",
      "metadata": {
        "id": "gHI50EyUlb92",
        "colab_type": "text"
      },
      "source": [
        "Task 2:"
      ]
    },
    {
      "cell_type": "markdown",
      "metadata": {
        "id": "DccGLDZtlZ4q",
        "colab_type": "text"
      },
      "source": [
        "Write a Python Program(with class concepts) to find the area of the triangle using the below\n",
        "formula.\n",
        "\n",
        "area = (s*(s-a)*(s-b)*(s-c)) ** 0.5\n",
        "\n",
        "Function to take the length of the sides of triangle from user should be defined in the parent\n",
        "class and function to calculate the area should be defined in subclass."
      ]
    },
    {
      "cell_type": "code",
      "metadata": {
        "id": "laNw54HJluvW",
        "colab_type": "code",
        "colab": {}
      },
      "source": [
        "#Parent Class\n",
        "class Polygon:\n",
        "\n",
        "  def __init__(self,n):\n",
        "    self.number_of_sides = n\n",
        "\n",
        "  def print_num_of_sides(self):\n",
        "    print('there are Number of ' + str(self.number_of_sides) + '  Sides.')"
      ],
      "execution_count": 0,
      "outputs": []
    },
    {
      "cell_type": "code",
      "metadata": {
        "id": "G3RK6cgroA76",
        "colab_type": "code",
        "colab": {}
      },
      "source": [
        "class Triangle(Polygon):\n",
        "  \n",
        "  def __init__(self, lengths_of_sides):\n",
        "    Polygon.__init__(self, 3)\n",
        "    self.lengths_of_sides = lengths_of_sides \n",
        "\n",
        "  def get_area(self):\n",
        "\n",
        "    a,b,c = self.lengths_of_sides\n",
        "    s = (a + b + c) / 2\n",
        "    return (s * (s-a) * (s-b) * (s-c)) ** 0.5"
      ],
      "execution_count": 0,
      "outputs": []
    },
    {
      "cell_type": "code",
      "metadata": {
        "id": "ChzpnCInqGg_",
        "colab_type": "code",
        "outputId": "047d47ce-e963-4d46-ca88-2152ed53b813",
        "colab": {
          "base_uri": "https://localhost:8080/",
          "height": 34
        }
      },
      "source": [
        "p = Polygon(9)\n",
        "p.print_num_of_sides()"
      ],
      "execution_count": 0,
      "outputs": [
        {
          "output_type": "stream",
          "text": [
            "there are Number of 9  Sides.\n"
          ],
          "name": "stdout"
        }
      ]
    },
    {
      "cell_type": "code",
      "metadata": {
        "id": "41T3VFplqv5q",
        "colab_type": "code",
        "outputId": "92174a2e-8fae-4a66-f2a9-2f7b11b3158a",
        "colab": {
          "base_uri": "https://localhost:8080/",
          "height": 51
        }
      },
      "source": [
        "T = Triangle([4,5,6])\n",
        "print(T.get_area())\n",
        "T.print_num_of_sides()"
      ],
      "execution_count": 0,
      "outputs": [
        {
          "output_type": "stream",
          "text": [
            "9.921567416492215\n",
            "there are Number of 3Sides.\n"
          ],
          "name": "stdout"
        }
      ]
    },
    {
      "cell_type": "markdown",
      "metadata": {
        "id": "iRoPqyk-wDWs",
        "colab_type": "text"
      },
      "source": [
        "2.Write a function filter_long_words() that takes a list of words and an integer n and returns the list\n",
        "of words that are longer than n"
      ]
    },
    {
      "cell_type": "code",
      "metadata": {
        "id": "MGYmP1Z0wG6_",
        "colab_type": "code",
        "outputId": "cb27bca6-d591-4f81-f1d1-ffeb1f0429b8",
        "colab": {
          "base_uri": "https://localhost:8080/",
          "height": 34
        }
      },
      "source": [
        "def filter_long_words(words , n):\n",
        "  return [word for word in words if len(word) > n]\n",
        "\n",
        "if __name__ == \"__main__\":\n",
        "  print (filter_long_words(['Sudhanshu kumar',\"krishna Naik\",\"Prakash Reddy\"], 12))"
      ],
      "execution_count": 23,
      "outputs": [
        {
          "output_type": "stream",
          "text": [
            "['Sudhanshu kumar', 'Prakash Reddy']\n"
          ],
          "name": "stdout"
        }
      ]
    },
    {
      "cell_type": "markdown",
      "metadata": {
        "id": "5vH4xloP4X05",
        "colab_type": "text"
      },
      "source": [
        "3.Write a Python program using function concept that maps list of words into a list of integers\n",
        "representing the lengths of the corresponding words ."
      ]
    },
    {
      "cell_type": "code",
      "metadata": {
        "id": "Q4emhuPE4b41",
        "colab_type": "code",
        "colab": {
          "base_uri": "https://localhost:8080/",
          "height": 34
        },
        "outputId": "6a856445-e9cf-4261-9455-4f29640a93a1"
      },
      "source": [
        "wordlist = [\"sudhanshukumar\", \"krishnaik\", \"virats\", \"mohit\", \"prakash\"]\n",
        "\n",
        "def wordlength(wordlist):\n",
        "  return list(map(lambda x: len(x), wordlist))\n",
        "\n",
        "print(\"The Lengths of the corresponding words\" + str(wordlength(wordlist)))"
      ],
      "execution_count": 25,
      "outputs": [
        {
          "output_type": "stream",
          "text": [
            "The Lengths of the corresponding words[14, 9, 6, 5, 7]\n"
          ],
          "name": "stdout"
        }
      ]
    },
    {
      "cell_type": "markdown",
      "metadata": {
        "id": "5pO7OcyDCXDn",
        "colab_type": "text"
      },
      "source": [
        "4.Write a Python function which takes a character (i.e. a string of length 1) and returns True if it is\n",
        "a vowel, False otherwise."
      ]
    },
    {
      "cell_type": "code",
      "metadata": {
        "id": "_Sv5jnWwCjZH",
        "colab_type": "code",
        "colab": {
          "base_uri": "https://localhost:8080/",
          "height": 51
        },
        "outputId": "cec43234-b8c5-467a-f115-097794ba16d7"
      },
      "source": [
        "def vowel_check(char):\n",
        "  if(char == 'a' or char == 'e' or char == 'i' or char == 'o' or char == 'u'):\n",
        "    return True\n",
        "  else:\n",
        "    return False\n",
        "char = input(\"Enter character: \")\n",
        "\n",
        "if(vowel_check(char)):\n",
        "  print(char, \"is a vowel\")\n",
        "else:\n",
        "  print(char, \"is not a vowel\")"
      ],
      "execution_count": 5,
      "outputs": [
        {
          "output_type": "stream",
          "text": [
            "Enter character: aus\n",
            "aus is not a vowel\n"
          ],
          "name": "stdout"
        }
      ]
    }
  ]
}